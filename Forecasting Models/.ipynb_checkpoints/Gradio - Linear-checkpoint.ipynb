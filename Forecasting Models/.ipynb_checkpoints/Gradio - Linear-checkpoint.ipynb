{
 "cells": [
  {
   "cell_type": "markdown",
   "id": "b6ca4916-02e4-4a19-9231-544394266dd5",
   "metadata": {},
   "source": [
    "Bu notebook eğitilmiş en iyi linear modeli kolay kullanılabilir bir kullanıcı arayüzüne aktarmak için oluşturulmuştur."
   ]
  },
  {
   "cell_type": "markdown",
   "id": "40f97a35-654e-4f27-b241-183a4fb1699b",
   "metadata": {},
   "source": [
    "# Setup"
   ]
  },
  {
   "cell_type": "code",
   "execution_count": 1,
   "id": "e258dc5f-f5a2-48f9-b4ee-04325873eccc",
   "metadata": {},
   "outputs": [],
   "source": [
    "import gradio as gr\n",
    "import sklearn\n",
    "import numpy as np\n",
    "import json\n",
    "\n",
    "import pandas as pd\n",
    "import matplotlib.pyplot as plt\n",
    "import plotly.express as px"
   ]
  },
  {
   "cell_type": "markdown",
   "id": "668b7a83-2fd8-42c1-a643-fa2c62f5056b",
   "metadata": {},
   "source": [
    "# PHASE 1: Get the model"
   ]
  },
  {
   "cell_type": "markdown",
   "id": "e1226f57-50e0-45d7-a156-036ba8f23aa2",
   "metadata": {},
   "source": [
    "Bu kısımda modellerin mimarisi tanımlanıp -asıl eğitildikleri notebook'takinin aynısı- kaydedilen modeller notebook'a yüklenir"
   ]
  },
  {
   "cell_type": "code",
   "execution_count": 2,
   "id": "c208d68e-e01d-4099-b463-470e8281c1bf",
   "metadata": {},
   "outputs": [
    {
     "data": {
      "text/html": [
       "<style>#sk-container-id-1 {color: black;}#sk-container-id-1 pre{padding: 0;}#sk-container-id-1 div.sk-toggleable {background-color: white;}#sk-container-id-1 label.sk-toggleable__label {cursor: pointer;display: block;width: 100%;margin-bottom: 0;padding: 0.3em;box-sizing: border-box;text-align: center;}#sk-container-id-1 label.sk-toggleable__label-arrow:before {content: \"▸\";float: left;margin-right: 0.25em;color: #696969;}#sk-container-id-1 label.sk-toggleable__label-arrow:hover:before {color: black;}#sk-container-id-1 div.sk-estimator:hover label.sk-toggleable__label-arrow:before {color: black;}#sk-container-id-1 div.sk-toggleable__content {max-height: 0;max-width: 0;overflow: hidden;text-align: left;background-color: #f0f8ff;}#sk-container-id-1 div.sk-toggleable__content pre {margin: 0.2em;color: black;border-radius: 0.25em;background-color: #f0f8ff;}#sk-container-id-1 input.sk-toggleable__control:checked~div.sk-toggleable__content {max-height: 200px;max-width: 100%;overflow: auto;}#sk-container-id-1 input.sk-toggleable__control:checked~label.sk-toggleable__label-arrow:before {content: \"▾\";}#sk-container-id-1 div.sk-estimator input.sk-toggleable__control:checked~label.sk-toggleable__label {background-color: #d4ebff;}#sk-container-id-1 div.sk-label input.sk-toggleable__control:checked~label.sk-toggleable__label {background-color: #d4ebff;}#sk-container-id-1 input.sk-hidden--visually {border: 0;clip: rect(1px 1px 1px 1px);clip: rect(1px, 1px, 1px, 1px);height: 1px;margin: -1px;overflow: hidden;padding: 0;position: absolute;width: 1px;}#sk-container-id-1 div.sk-estimator {font-family: monospace;background-color: #f0f8ff;border: 1px dotted black;border-radius: 0.25em;box-sizing: border-box;margin-bottom: 0.5em;}#sk-container-id-1 div.sk-estimator:hover {background-color: #d4ebff;}#sk-container-id-1 div.sk-parallel-item::after {content: \"\";width: 100%;border-bottom: 1px solid gray;flex-grow: 1;}#sk-container-id-1 div.sk-label:hover label.sk-toggleable__label {background-color: #d4ebff;}#sk-container-id-1 div.sk-serial::before {content: \"\";position: absolute;border-left: 1px solid gray;box-sizing: border-box;top: 0;bottom: 0;left: 50%;z-index: 0;}#sk-container-id-1 div.sk-serial {display: flex;flex-direction: column;align-items: center;background-color: white;padding-right: 0.2em;padding-left: 0.2em;position: relative;}#sk-container-id-1 div.sk-item {position: relative;z-index: 1;}#sk-container-id-1 div.sk-parallel {display: flex;align-items: stretch;justify-content: center;background-color: white;position: relative;}#sk-container-id-1 div.sk-item::before, #sk-container-id-1 div.sk-parallel-item::before {content: \"\";position: absolute;border-left: 1px solid gray;box-sizing: border-box;top: 0;bottom: 0;left: 50%;z-index: -1;}#sk-container-id-1 div.sk-parallel-item {display: flex;flex-direction: column;z-index: 1;position: relative;background-color: white;}#sk-container-id-1 div.sk-parallel-item:first-child::after {align-self: flex-end;width: 50%;}#sk-container-id-1 div.sk-parallel-item:last-child::after {align-self: flex-start;width: 50%;}#sk-container-id-1 div.sk-parallel-item:only-child::after {width: 0;}#sk-container-id-1 div.sk-dashed-wrapped {border: 1px dashed gray;margin: 0 0.4em 0.5em 0.4em;box-sizing: border-box;padding-bottom: 0.4em;background-color: white;}#sk-container-id-1 div.sk-label label {font-family: monospace;font-weight: bold;display: inline-block;line-height: 1.2em;}#sk-container-id-1 div.sk-label-container {text-align: center;}#sk-container-id-1 div.sk-container {/* jupyter's `normalize.less` sets `[hidden] { display: none; }` but bootstrap.min.css set `[hidden] { display: none !important; }` so we also need the `!important` here to be able to override the default hidden behavior on the sphinx rendered scikit-learn.org. See: https://github.com/scikit-learn/scikit-learn/issues/21755 */display: inline-block !important;position: relative;}#sk-container-id-1 div.sk-text-repr-fallback {display: none;}</style><div id=\"sk-container-id-1\" class=\"sk-top-container\"><div class=\"sk-text-repr-fallback\"><pre>Pipeline(steps=[(&#x27;polynomialfeatures&#x27;, PolynomialFeatures(degree=3)),\n",
       "                (&#x27;linearregression&#x27;, LinearRegression())])</pre><b>In a Jupyter environment, please rerun this cell to show the HTML representation or trust the notebook. <br />On GitHub, the HTML representation is unable to render, please try loading this page with nbviewer.org.</b></div><div class=\"sk-container\" hidden><div class=\"sk-item sk-dashed-wrapped\"><div class=\"sk-label-container\"><div class=\"sk-label sk-toggleable\"><input class=\"sk-toggleable__control sk-hidden--visually\" id=\"sk-estimator-id-1\" type=\"checkbox\" ><label for=\"sk-estimator-id-1\" class=\"sk-toggleable__label sk-toggleable__label-arrow\">Pipeline</label><div class=\"sk-toggleable__content\"><pre>Pipeline(steps=[(&#x27;polynomialfeatures&#x27;, PolynomialFeatures(degree=3)),\n",
       "                (&#x27;linearregression&#x27;, LinearRegression())])</pre></div></div></div><div class=\"sk-serial\"><div class=\"sk-item\"><div class=\"sk-estimator sk-toggleable\"><input class=\"sk-toggleable__control sk-hidden--visually\" id=\"sk-estimator-id-2\" type=\"checkbox\" ><label for=\"sk-estimator-id-2\" class=\"sk-toggleable__label sk-toggleable__label-arrow\">PolynomialFeatures</label><div class=\"sk-toggleable__content\"><pre>PolynomialFeatures(degree=3)</pre></div></div></div><div class=\"sk-item\"><div class=\"sk-estimator sk-toggleable\"><input class=\"sk-toggleable__control sk-hidden--visually\" id=\"sk-estimator-id-3\" type=\"checkbox\" ><label for=\"sk-estimator-id-3\" class=\"sk-toggleable__label sk-toggleable__label-arrow\">LinearRegression</label><div class=\"sk-toggleable__content\"><pre>LinearRegression()</pre></div></div></div></div></div></div></div>"
      ],
      "text/plain": [
       "Pipeline(steps=[('polynomialfeatures', PolynomialFeatures(degree=3)),\n",
       "                ('linearregression', LinearRegression())])"
      ]
     },
     "execution_count": 2,
     "metadata": {},
     "output_type": "execute_result"
    }
   ],
   "source": [
    "import pickle\n",
    "\n",
    "# Modeli yükle\n",
    "with open(r\"MODELS\\polyreg_model.pkl\", 'rb') as f:\n",
    "    poly_model = pickle.load(f)\n",
    "\n",
    "poly_model"
   ]
  },
  {
   "cell_type": "markdown",
   "id": "919245b9-5f45-4cf9-b3da-8449f6df64f6",
   "metadata": {},
   "source": [
    "# PHASE 2: Configure the IU"
   ]
  },
  {
   "cell_type": "markdown",
   "id": "c5cf7c5e-ab6d-4553-b1fa-67c571c81903",
   "metadata": {},
   "source": [
    "Üç tane ana kullanıcı arayüzü tanımladım:\n",
    "1) Single Prediction: Girilen verilere ve seçilen ayarlara göre tek bir zaman noktası tahmini yapar\n",
    "2) Forecast Plot: Girilen verilere ve seçilen ayarlara göre istenilen aralığı öngörür ve grafiğini çıkartır\n",
    "3) Forecast Table: Girilen verilere ve seçilen ayarlara göre istenilen aralığı öngörür ve tablosunu çıkartır\n",
    "\n",
    "Her arayüz için kullanıcın ne yapması gerektiğini iyice anlatmaya çalıştım, arayüzün olduğu bölümü çalıştırırsanız açıklamaları daha net görebilirsiniz."
   ]
  },
  {
   "cell_type": "code",
   "execution_count": 3,
   "id": "fb59503a-a653-4572-8e90-3d5f9121118c",
   "metadata": {},
   "outputs": [],
   "source": [
    "# Denormalizasyon istatistikleri\n",
    "with open(r\"normalization_stats.json\", \"r\") as json_file:\n",
    "    norm_dict = json.load(json_file)\n",
    "\n",
    "mean = norm_dict['mean']\n",
    "std = norm_dict['std']"
   ]
  },
  {
   "cell_type": "code",
   "execution_count": 4,
   "id": "e9528875-27f1-42aa-a68f-897067abb9b5",
   "metadata": {},
   "outputs": [],
   "source": [
    "# Kullanıcının cevabını istenilen değişkene dönüştürmek için sözlük\n",
    "dayofweek = {\n",
    "    \"Pazartesi\": 1,\n",
    "    \"Salı\": 2,\n",
    "    \"Çarşamba\": 3,\n",
    "    \"Perşembe\": 4,\n",
    "    \"Cuma\": 5,\n",
    "    \"Cumartesi\": 6,\n",
    "    \"Pazar\": 7\n",
    "}"
   ]
  },
  {
   "cell_type": "markdown",
   "id": "ef528a41-9f88-440e-8262-b943cbe671d1",
   "metadata": {},
   "source": [
    "## Predict Single"
   ]
  },
  {
   "cell_type": "markdown",
   "id": "02ab9b98-7de5-4f9c-9d1f-1db584ac7ccf",
   "metadata": {},
   "source": [
    "### Prediction logic"
   ]
  },
  {
   "cell_type": "code",
   "execution_count": 5,
   "id": "885f4777-3eaa-4fb8-9a6e-21a735e0f4cc",
   "metadata": {},
   "outputs": [],
   "source": [
    "def predict(hour_interval, day_of_week, value_before):\n",
    "    value_before_norm = (value_before - mean) / std\n",
    "    sequence = np.array([hour_interval, dayofweek[day_of_week], value_before_norm])\n",
    "    sequence_df = pd.DataFrame(sequence.reshape(1, -1), columns=[\"HourInterval\", \"DayOfWeek\", \"NetAmountWOVat Before 1\"])\n",
    "\n",
    "    output = poly_model.predict(sequence_df)\n",
    "    \n",
    "    output_denorm = output * std + mean\n",
    "    \n",
    "    return round(output_denorm.item(), 2)"
   ]
  },
  {
   "cell_type": "markdown",
   "id": "116d15f2-60fa-4f62-ba1e-a5580fe36a68",
   "metadata": {},
   "source": [
    "### UI"
   ]
  },
  {
   "cell_type": "code",
   "execution_count": 6,
   "id": "e38b1546-23e7-4d81-83f6-71235321cf65",
   "metadata": {},
   "outputs": [],
   "source": [
    "single_article = \"**Nasıl Kullanılır**:\\n\"\\\n",
    "            \"* Tahmin etmek istediğiniz saati girin, günü seçin ve bir saat öncesindeki değeri sağlayın.\\n\" \\\n",
    "            \"* 'Submit' düğmesine tıklayın. Tahmin edilen değer bölümü istenen sonucu gösterecektir. \""
   ]
  },
  {
   "cell_type": "code",
   "execution_count": 7,
   "id": "a4f9e35a-7ea5-4bff-9209-136359965b49",
   "metadata": {},
   "outputs": [
    {
     "name": "stdout",
     "output_type": "stream",
     "text": [
      "Running on local URL:  http://127.0.0.1:7865\n",
      "\n",
      "To create a public link, set `share=True` in `launch()`.\n"
     ]
    },
    {
     "data": {
      "text/html": [
       "<div><iframe src=\"http://127.0.0.1:7865/\" width=\"100%\" height=\"500\" allow=\"autoplay; camera; microphone; clipboard-read; clipboard-write;\" frameborder=\"0\" allowfullscreen></iframe></div>"
      ],
      "text/plain": [
       "<IPython.core.display.HTML object>"
      ]
     },
     "metadata": {},
     "output_type": "display_data"
    },
    {
     "data": {
      "text/plain": []
     },
     "execution_count": 7,
     "metadata": {},
     "output_type": "execute_result"
    }
   ],
   "source": [
    "prediction_interface = gr.Interface( \n",
    "    fn=predict,\n",
    "    inputs=[\n",
    "        gr.Number(label=\"Saat Aralığı\", value=14),\n",
    "        gr.Dropdown(choices= [\"Pazartesi\", \"Salı\", \"Çarşamba\", \"Perşembe\", \"Cuma\", \"Cumartesi\", \"Pazar\"], label=\"Haftanın Günü\", value=\"Cuma\"),\n",
    "        gr.Number(label=\"Bir önceki değer\", value=30000)\n",
    "    ],\n",
    "    outputs=gr.Textbox(label=\"Tahmin edilen değer\"),\n",
    "    title=\"Öngörü Uygulaması\",\n",
    "    description=\"Model Türü, Saat Aralığı, Haftanın Günü ve Önceki Değer'i girerek bir tahmin alın.\",\n",
    "    theme=gr.themes.Soft(),\n",
    "    article=single_article,\n",
    "    allow_flagging=\"never\"\n",
    ")\n",
    "\n",
    "prediction_interface.launch()"
   ]
  },
  {
   "cell_type": "markdown",
   "id": "949a1d10-c3ac-4c5e-8c1b-38b6ccc64a85",
   "metadata": {},
   "source": [
    "## Forecast Plot"
   ]
  },
  {
   "cell_type": "markdown",
   "id": "b90c5f87-83b0-40cf-b84a-523a3fe29171",
   "metadata": {},
   "source": [
    "### Forecasting Logic"
   ]
  },
  {
   "cell_type": "code",
   "execution_count": 8,
   "id": "9e7780f2-b550-4d81-9e33-7c2c46704e8b",
   "metadata": {},
   "outputs": [],
   "source": [
    "desired_column = \"NetAmountWOVat\"\n",
    "features = [\"HourInterval\", \"DayOfWeek\", f'{desired_column} Before 1']\n",
    "\n",
    "def forecast_plot(start_timestamp, end_timestamp, sequence_length=1):\n",
    "    forecast_timestamps = pd.date_range(start=start_timestamp, end=end_timestamp, freq='H')\n",
    "    forecast_df = pd.DataFrame(index=forecast_timestamps)\n",
    "    \n",
    "    forecast_df[f'Forecasted {desired_column}'] = np.nan\n",
    "    forecast_df[\"HourInterval\"] = forecast_df.index.hour\n",
    "    forecast_df['DayOfWeek'] = forecast_df.index.dayofweek + 1\n",
    "\n",
    "    for i in range(1, sequence_length+1):\n",
    "        forecast_df[f'{desired_column} Before {i}'] = np.nan\n",
    "\n",
    "    forecast_df.iloc[:sequence_length, forecast_df.columns.get_loc(f'{desired_column} Before 1')] = (0-mean)/std\n",
    "\n",
    "    for i in range(0, len(forecast_df) + 100):\n",
    "        input_array = forecast_df[features].iloc[i]\n",
    "        input_df = pd.DataFrame([input_array])\n",
    "\n",
    "        predicted_value = poly_model.predict(input_df)\n",
    "    \n",
    "        forecast_df.iloc[i, forecast_df.columns.get_loc(f'Forecasted {desired_column}')] = predicted_value.item()\n",
    "    \n",
    "        if forecast_df.isnull().sum()[0] == 0:\n",
    "            break\n",
    "    \n",
    "        for k in range(1, sequence_length+1):\n",
    "            forecast_df.iloc[i + k, forecast_df.columns.get_loc(f'{desired_column} Before {k}')] = forecast_df.iloc[i+1-k, forecast_df.columns.get_loc(f'Forecasted {desired_column}')]\n",
    "    \n",
    "    forecast_df_denorm = forecast_df.copy()\n",
    "    forecast_df_denorm[f'Forecasted {desired_column}'] = forecast_df[f'Forecasted {desired_column}'] * std + mean\n",
    "    \n",
    "    return px.line(forecast_df_denorm, x=forecast_df.index, y=f'Forecasted {desired_column}')"
   ]
  },
  {
   "cell_type": "markdown",
   "id": "2a4e9be8-068b-4438-83e2-48934af41f79",
   "metadata": {},
   "source": [
    "### UI"
   ]
  },
  {
   "cell_type": "code",
   "execution_count": 9,
   "id": "37bf6ad7-8eca-42fa-9dd9-f5fafc3d90d8",
   "metadata": {},
   "outputs": [],
   "source": [
    "plot_article = \"Nasıl Kullanılır:\\n * Başlangıç ve bitiş tarihini YY-AA-GG SS:DD:SS biçiminde girin ve geçmişe bakma aralığını sağlayın. \\n\"\\\n",
    "                \"* 'Submit' düğmesine tıklayın. Tahminler bir grafik olarak gösterilecektir. \""
   ]
  },
  {
   "cell_type": "code",
   "execution_count": 10,
   "id": "de487cf9-1be9-4dd2-b88a-a6be417e82b5",
   "metadata": {},
   "outputs": [
    {
     "name": "stdout",
     "output_type": "stream",
     "text": [
      "Running on local URL:  http://127.0.0.1:7866\n",
      "\n",
      "To create a public link, set `share=True` in `launch()`.\n"
     ]
    },
    {
     "data": {
      "text/html": [
       "<div><iframe src=\"http://127.0.0.1:7866/\" width=\"100%\" height=\"500\" allow=\"autoplay; camera; microphone; clipboard-read; clipboard-write;\" frameborder=\"0\" allowfullscreen></iframe></div>"
      ],
      "text/plain": [
       "<IPython.core.display.HTML object>"
      ]
     },
     "metadata": {},
     "output_type": "display_data"
    },
    {
     "data": {
      "text/plain": []
     },
     "execution_count": 10,
     "metadata": {},
     "output_type": "execute_result"
    }
   ],
   "source": [
    "plot_interface = gr.Interface(\n",
    "    fn=forecast_plot,\n",
    "    inputs=[\n",
    "        gr.Textbox(label=\"Başlangıç Zamanı (YYYY-AA-GG SS:DD:SS)\", value=\"2024-02-8 00:00:00\"),  \n",
    "        gr.Textbox(label=\"Bitiş Zamanı (YYYY-AA-GG SS:DD:SS)\", value=\"2024-02-15 23:00:00\")\n",
    "      ],\n",
    "    outputs=\"plot\",\n",
    "    title=\"Tahmin Uygulaması\",\n",
    "    description=\"Tahmin yapmak için başlangıç ve bitiş zamanını YYYY-AA-GG SS:DD:SS formatında girin.\",\n",
    "    article = plot_article,\n",
    "    allow_flagging=\"never\"\n",
    ")\n",
    "\n",
    "plot_interface.launch()"
   ]
  },
  {
   "cell_type": "markdown",
   "id": "23790429-4e78-443b-8b9f-76ffd42c7356",
   "metadata": {},
   "source": [
    "## Forecast Table"
   ]
  },
  {
   "cell_type": "markdown",
   "id": "b7765c51-9f08-4feb-b9e1-3b2ac33abca8",
   "metadata": {},
   "source": [
    "### Forecasting Logic"
   ]
  },
  {
   "cell_type": "code",
   "execution_count": 11,
   "id": "04c2ea4e-b44b-4e56-b759-7ebd9b3b9189",
   "metadata": {},
   "outputs": [],
   "source": [
    "desired_column = \"NetAmountWOVat\"\n",
    "features = [\"HourInterval\", \"DayOfWeek\", f'{desired_column} Before 1']\n",
    "\n",
    "def forecast_table(start_timestamp, end_timestamp, sequence_length=1):\n",
    "    forecast_timestamps = pd.date_range(start=start_timestamp, end=end_timestamp, freq='H')\n",
    "    forecast_df = pd.DataFrame(index=forecast_timestamps)\n",
    "    \n",
    "    forecast_df[f'Forecasted {desired_column}'] = np.nan\n",
    "    forecast_df[\"HourInterval\"] = forecast_df.index.hour\n",
    "    forecast_df['DayOfWeek'] = forecast_df.index.dayofweek + 1\n",
    "\n",
    "    for i in range(1, sequence_length+1):\n",
    "        forecast_df[f'{desired_column} Before {i}'] = np.nan\n",
    "\n",
    "    forecast_df.iloc[:sequence_length, forecast_df.columns.get_loc(f'{desired_column} Before 1')] = (0-mean)/std\n",
    "\n",
    "    for i in range(0, len(forecast_df) + 100):\n",
    "        input_array = forecast_df[features].iloc[i]\n",
    "        input_df = pd.DataFrame([input_array])\n",
    "\n",
    "        predicted_value = poly_model.predict(input_df)\n",
    "    \n",
    "        forecast_df.iloc[i, forecast_df.columns.get_loc(f'Forecasted {desired_column}')] = predicted_value.item()\n",
    "    \n",
    "        if forecast_df.isnull().sum()[0] == 0:\n",
    "            break\n",
    "    \n",
    "        for k in range(1, sequence_length+1):\n",
    "            forecast_df.iloc[i + k, forecast_df.columns.get_loc(f'{desired_column} Before {k}')] = forecast_df.iloc[i+1-k, forecast_df.columns.get_loc(f'Forecasted {desired_column}')]\n",
    "\n",
    "    forecast_df_denorm = forecast_df.copy()\n",
    "    forecast_df_denorm[f'Forecasted {desired_column}'] = forecast_df[f'Forecasted {desired_column}'] * std + mean\n",
    "\n",
    "    formatted_timestamps = forecast_df_denorm.index.strftime(\"%Y-%m-%d %H:%M:%S\").tolist()\n",
    "    predicted_values = forecast_df_denorm[f'Forecasted {desired_column}'].tolist()\n",
    "\n",
    "    data = list(zip(formatted_timestamps, predicted_values))\n",
    "\n",
    "    return gr.Dataframe(value=data, headers=[\"Time\", f\"Predicted {desired_column}\"])"
   ]
  },
  {
   "cell_type": "markdown",
   "id": "bd5bf70a-fb83-47b0-a966-6b2850f286d5",
   "metadata": {},
   "source": [
    "### UI"
   ]
  },
  {
   "cell_type": "code",
   "execution_count": 12,
   "id": "8e52da4e-0d0a-4686-9eee-ee26cb4f1049",
   "metadata": {},
   "outputs": [],
   "source": [
    "table_article = \"Nasıl Kullanılır:\\n * Başlangıç ve bitiş tarihini YY-AA-GG SS:DD:SS biçiminde girin ve geçmişe bakma aralığını sağlayın. \\n\"\\\n",
    "                \"* 'Submit' düğmesine tıklayın. Tahminler tablo halinde gösterilecektir. \""
   ]
  },
  {
   "cell_type": "code",
   "execution_count": 13,
   "id": "47a2eda9-86f6-49db-8d13-fd50a9c5b990",
   "metadata": {},
   "outputs": [
    {
     "name": "stdout",
     "output_type": "stream",
     "text": [
      "Running on local URL:  http://127.0.0.1:7867\n",
      "\n",
      "To create a public link, set `share=True` in `launch()`.\n"
     ]
    },
    {
     "data": {
      "text/html": [
       "<div><iframe src=\"http://127.0.0.1:7867/\" width=\"100%\" height=\"500\" allow=\"autoplay; camera; microphone; clipboard-read; clipboard-write;\" frameborder=\"0\" allowfullscreen></iframe></div>"
      ],
      "text/plain": [
       "<IPython.core.display.HTML object>"
      ]
     },
     "metadata": {},
     "output_type": "display_data"
    },
    {
     "data": {
      "text/plain": []
     },
     "execution_count": 13,
     "metadata": {},
     "output_type": "execute_result"
    }
   ],
   "source": [
    "interface = gr.Interface(\n",
    "    fn=forecast_table,\n",
    "    inputs=[\n",
    "        gr.Textbox(label=\"Başlangıç Zamanı (YYYY-AA-GG SS:DD:SS)\", value=\"2024-02-8 00:00:00\"),  \n",
    "        gr.Textbox(label=\"Bitiş Zamanı (YYYY-AA-GG SS:DD:SS)\", value=\"2024-02-10 23:00:00\")\n",
    "      ],\n",
    "    outputs=gr.Dataframe(label=\"Tahmin Tablosu\"),\n",
    "    title=\"Tahmin Uygulaması\",\n",
    "    description=\"Tahmin yapmak için başlangıç ve bitiş zamanını YYYY-AA-GG SS:DD:SS formatında girin.\",\n",
    "    article=table_article,\n",
    "    allow_flagging=\"never\"\n",
    ")\n",
    "\n",
    "interface.launch()"
   ]
  }
 ],
 "metadata": {
  "kernelspec": {
   "display_name": "Python 3 (ipykernel)",
   "language": "python",
   "name": "python3"
  },
  "language_info": {
   "codemirror_mode": {
    "name": "ipython",
    "version": 3
   },
   "file_extension": ".py",
   "mimetype": "text/x-python",
   "name": "python",
   "nbconvert_exporter": "python",
   "pygments_lexer": "ipython3",
   "version": "3.8.18"
  }
 },
 "nbformat": 4,
 "nbformat_minor": 5
}
