{
 "cells": [
  {
   "cell_type": "markdown",
   "id": "a8fe3d99-65cd-45bf-8e9f-07c889e6d807",
   "metadata": {},
   "source": [
    "Bu notebook eğitilmiş Prophet modelini kolay kullanılabilir bir kullanıcı arayüzüne aktarmak için oluşturulmuştur."
   ]
  },
  {
   "cell_type": "markdown",
   "id": "40f97a35-654e-4f27-b241-183a4fb1699b",
   "metadata": {},
   "source": [
    "# Setup"
   ]
  },
  {
   "cell_type": "code",
   "execution_count": 2,
   "id": "e258dc5f-f5a2-48f9-b4ee-04325873eccc",
   "metadata": {},
   "outputs": [],
   "source": [
    "import gradio as gr\n",
    "import torch\n",
    "import torch.nn as nn\n",
    "import numpy as np\n",
    "import json\n",
    "import fbprophet\n",
    "\n",
    "import pandas as pd\n",
    "import matplotlib.pyplot as plt\n",
    "import plotly.express as px\n",
    "import pickle"
   ]
  },
  {
   "cell_type": "markdown",
   "id": "668b7a83-2fd8-42c1-a643-fa2c62f5056b",
   "metadata": {},
   "source": [
    "# PHASE 1: Get the model"
   ]
  },
  {
   "cell_type": "code",
   "execution_count": 4,
   "id": "c208d68e-e01d-4099-b463-470e8281c1bf",
   "metadata": {},
   "outputs": [
    {
     "data": {
      "text/plain": [
       "<fbprophet.forecaster.Prophet at 0x21f8f142af0>"
      ]
     },
     "execution_count": 4,
     "metadata": {},
     "output_type": "execute_result"
    }
   ],
   "source": [
    "with open(r\"C:\\Users\\kerem.cantimur\\Desktop\\VscodeProjects\\KaracaModelleri\\MODELS\\exog_prophet_model.pkl\", 'rb') as f:\n",
    "    exog_prophet_model = pickle.load(f)\n",
    "\n",
    "exog_prophet_model"
   ]
  },
  {
   "cell_type": "markdown",
   "id": "919245b9-5f45-4cf9-b3da-8449f6df64f6",
   "metadata": {},
   "source": [
    "# PHASE 2: Configure the IU"
   ]
  },
  {
   "cell_type": "markdown",
   "id": "ef528a41-9f88-440e-8262-b943cbe671d1",
   "metadata": {},
   "source": [
    "## Predict Single"
   ]
  },
  {
   "cell_type": "markdown",
   "id": "949a1d10-c3ac-4c5e-8c1b-38b6ccc64a85",
   "metadata": {},
   "source": [
    "## Forecast Plot"
   ]
  },
  {
   "cell_type": "markdown",
   "id": "b90c5f87-83b0-40cf-b84a-523a3fe29171",
   "metadata": {},
   "source": [
    "### Forecasting Logic"
   ]
  },
  {
   "cell_type": "code",
   "execution_count": 8,
   "id": "9e7780f2-b550-4d81-9e33-7c2c46704e8b",
   "metadata": {},
   "outputs": [],
   "source": [
    "def forecast_plot(start_timestamp, end_timestamp):\n",
    "    forecast_timestamps = pd.date_range(start=start_timestamp, end=end_timestamp, freq='H')\n",
    "    exog_model_forecast_df = pd.DataFrame(index=forecast_timestamps)\n",
    "    \n",
    "    exog_model_forecast_df['ds'] = pd.date_range(start=start_timestamp, end=end_timestamp, freq='H')\n",
    "    exog_model_forecast_df['y'] = np.nan\n",
    "    \n",
    "    exog_model_forecast_df[\"HourInterval\"] = exog_model_forecast_df.ds.dt.hour\n",
    "    exog_model_forecast_df['DayOfWeek'] = exog_model_forecast_df.ds.dt.dayofweek + 1\n",
    "\n",
    "    exog_model_forecast_df = exog_prophet_model.predict(exog_model_forecast_df)\n",
    "      \n",
    "    return px.line(exog_model_forecast_df, x=exog_model_forecast_df.index, y=f'yhat')"
   ]
  },
  {
   "cell_type": "markdown",
   "id": "2a4e9be8-068b-4438-83e2-48934af41f79",
   "metadata": {},
   "source": [
    "### UI"
   ]
  },
  {
   "cell_type": "code",
   "execution_count": 11,
   "id": "37bf6ad7-8eca-42fa-9dd9-f5fafc3d90d8",
   "metadata": {},
   "outputs": [],
   "source": [
    "plot_article = \"Kullanımı:\\n * Başlangıç ve bitiş tarihini YY-AA-GG SS:DD:SS biçiminde girin ve geçmişe bakma aralığını sağlayın. \\n\"\\\n",
    "                \"* 'Submit' düğmesine tıklayın. Tahminler bir grafik olarak gösterilecektir. \""
   ]
  },
  {
   "cell_type": "code",
   "execution_count": 15,
   "id": "693c11d9-89d6-49f3-996d-15f644f6ebb9",
   "metadata": {},
   "outputs": [
    {
     "name": "stdout",
     "output_type": "stream",
     "text": [
      "Running on local URL:  http://127.0.0.1:7888\n"
     ]
    },
    {
     "name": "stderr",
     "output_type": "stream",
     "text": [
      "INFO:httpx:HTTP Request: GET http://127.0.0.1:7888/startup-events \"HTTP/1.1 200 OK\"\n",
      "INFO:httpx:HTTP Request: HEAD http://127.0.0.1:7888/ \"HTTP/1.1 200 OK\"\n"
     ]
    },
    {
     "name": "stdout",
     "output_type": "stream",
     "text": [
      "\n",
      "To create a public link, set `share=True` in `launch()`.\n"
     ]
    },
    {
     "data": {
      "text/html": [
       "<div><iframe src=\"http://127.0.0.1:7888/\" width=\"100%\" height=\"500\" allow=\"autoplay; camera; microphone; clipboard-read; clipboard-write;\" frameborder=\"0\" allowfullscreen></iframe></div>"
      ],
      "text/plain": [
       "<IPython.core.display.HTML object>"
      ]
     },
     "metadata": {},
     "output_type": "display_data"
    },
    {
     "data": {
      "text/plain": []
     },
     "execution_count": 15,
     "metadata": {},
     "output_type": "execute_result"
    },
    {
     "name": "stderr",
     "output_type": "stream",
     "text": [
      "INFO:httpx:HTTP Request: GET https://api.gradio.app/pkg-version \"HTTP/1.1 200 OK\"\n",
      "INFO:httpx:HTTP Request: POST https://api.gradio.app/gradio-initiated-analytics/ \"HTTP/1.1 200 OK\"\n",
      "INFO:httpx:HTTP Request: POST https://api.gradio.app/gradio-launched-telemetry/ \"HTTP/1.1 200 OK\"\n"
     ]
    }
   ],
   "source": [
    "plot_interface = gr.Interface(\n",
    "    fn=forecast_plot,\n",
    "    inputs=[\n",
    "        gr.Textbox(label=\"Başlangıç Zaman (YYYY-AA-GG SS:DD:SS)\", value=\"2024-02-8 00:00:00\"),  \n",
    "        gr.Textbox(label=\"Bitiş Zaman (YYYY-AA-GG SS:DD:SS)\", value=\"2024-02-15 23:00:00\"),  \n",
    "      ],\n",
    "    outputs=\"plot\",\n",
    "    title=\"Öngörü Uygulaması\",\n",
    "    description=\"Tahmin yapmak için başlangıç ve bitiş zamanını YYYY-AA-GG SS:DD:SS formatında girin.\",\n",
    "    article = plot_article\n",
    ")\n",
    "\n",
    "plot_interface.launch()\n"
   ]
  },
  {
   "cell_type": "markdown",
   "id": "23790429-4e78-443b-8b9f-76ffd42c7356",
   "metadata": {},
   "source": [
    "## Forecast Table"
   ]
  },
  {
   "cell_type": "markdown",
   "id": "b7765c51-9f08-4feb-b9e1-3b2ac33abca8",
   "metadata": {},
   "source": [
    "### Forecasting Logic"
   ]
  },
  {
   "cell_type": "code",
   "execution_count": 16,
   "id": "04c2ea4e-b44b-4e56-b759-7ebd9b3b9189",
   "metadata": {},
   "outputs": [],
   "source": [
    "def forecast_table(start_timestamp, end_timestamp):\n",
    "    forecast_timestamps = pd.date_range(start=start_timestamp, end=end_timestamp, freq='H')\n",
    "    exog_model_forecast_df = pd.DataFrame(index=forecast_timestamps)\n",
    "    \n",
    "    exog_model_forecast_df['ds'] = pd.date_range(start=start_timestamp, end=end_timestamp, freq='H')\n",
    "    exog_model_forecast_df['y'] = np.nan\n",
    "    \n",
    "    exog_model_forecast_df[\"HourInterval\"] = exog_model_forecast_df.ds.dt.hour\n",
    "    exog_model_forecast_df['DayOfWeek'] = exog_model_forecast_df.ds.dt.dayofweek + 1\n",
    "\n",
    "    exog_model_forecast_df = exog_prophet_model.predict(exog_model_forecast_df)\n",
    "\n",
    "    formatted_timestamps = exog_model_forecast_df[\"ds\"]\n",
    "    predicted_values = exog_model_forecast_df[\"yhat\"]\n",
    "\n",
    "    data = list(zip(formatted_timestamps, predicted_values))\n",
    "\n",
    "    return gr.Dataframe(value=data, headers=[\"Time\", \"Prediction\"])"
   ]
  },
  {
   "cell_type": "markdown",
   "id": "bd5bf70a-fb83-47b0-a966-6b2850f286d5",
   "metadata": {},
   "source": [
    "### UI"
   ]
  },
  {
   "cell_type": "code",
   "execution_count": 14,
   "id": "8e52da4e-0d0a-4686-9eee-ee26cb4f1049",
   "metadata": {},
   "outputs": [],
   "source": [
    "table_article = \"Kullanımı:\\n * Başlangıç ve bitiş tarihini YY-AA-GG SS:DD:SS biçiminde girin ve geçmişe bakma aralığını sağlayın. \\n\" \\\n",
    "                    \"* 'Submit' düğmesine tıklayın. Tahminler bir tablo olarak gösterilecektir. \""
   ]
  },
  {
   "cell_type": "code",
   "execution_count": 17,
   "id": "47a2eda9-86f6-49db-8d13-fd50a9c5b990",
   "metadata": {},
   "outputs": [
    {
     "name": "stdout",
     "output_type": "stream",
     "text": [
      "Running on local URL:  http://127.0.0.1:7889\n"
     ]
    },
    {
     "name": "stderr",
     "output_type": "stream",
     "text": [
      "INFO:httpx:HTTP Request: GET http://127.0.0.1:7889/startup-events \"HTTP/1.1 200 OK\"\n",
      "INFO:httpx:HTTP Request: HEAD http://127.0.0.1:7889/ \"HTTP/1.1 200 OK\"\n"
     ]
    },
    {
     "name": "stdout",
     "output_type": "stream",
     "text": [
      "\n",
      "To create a public link, set `share=True` in `launch()`.\n"
     ]
    },
    {
     "data": {
      "text/html": [
       "<div><iframe src=\"http://127.0.0.1:7889/\" width=\"100%\" height=\"500\" allow=\"autoplay; camera; microphone; clipboard-read; clipboard-write;\" frameborder=\"0\" allowfullscreen></iframe></div>"
      ],
      "text/plain": [
       "<IPython.core.display.HTML object>"
      ]
     },
     "metadata": {},
     "output_type": "display_data"
    },
    {
     "data": {
      "text/plain": []
     },
     "execution_count": 17,
     "metadata": {},
     "output_type": "execute_result"
    },
    {
     "name": "stderr",
     "output_type": "stream",
     "text": [
      "INFO:httpx:HTTP Request: GET https://api.gradio.app/pkg-version \"HTTP/1.1 200 OK\"\n",
      "INFO:httpx:HTTP Request: POST https://api.gradio.app/gradio-initiated-analytics/ \"HTTP/1.1 200 OK\"\n",
      "INFO:httpx:HTTP Request: POST https://api.gradio.app/gradio-launched-telemetry/ \"HTTP/1.1 200 OK\"\n"
     ]
    }
   ],
   "source": [
    "interface = gr.Interface(\n",
    "    fn=forecast_table,\n",
    "    inputs=[\n",
    "        gr.Textbox(label=\"Başlangıç Zamanı (YYYY-AA-GG SS:DD:SS)\", value=\"2024-02-8 00:00:00\"),  \n",
    "        gr.Textbox(label=\"Bitiş Zamanı (YYYY-AA-GG SS:DD:SS)\", value=\"2024-02-10 23:00:00\")\n",
    "      ],\n",
    "    outputs=gr.Dataframe(label=\"Tahmin Tablosu\"),\n",
    "    title=\"Tahmin Uygulaması\",\n",
    "    description=\"Tahmin yapmak için başlangıç ve bitiş zamanını YYYY-AA-GG SS:DD:SS formatında girin.\"\n",
    ")\n",
    "\n",
    "interface.launch()\n"
   ]
  }
 ],
 "metadata": {
  "kernelspec": {
   "display_name": "Python 3 (ipykernel)",
   "language": "python",
   "name": "python3"
  },
  "language_info": {
   "codemirror_mode": {
    "name": "ipython",
    "version": 3
   },
   "file_extension": ".py",
   "mimetype": "text/x-python",
   "name": "python",
   "nbconvert_exporter": "python",
   "pygments_lexer": "ipython3",
   "version": "3.8.18"
  }
 },
 "nbformat": 4,
 "nbformat_minor": 5
}
