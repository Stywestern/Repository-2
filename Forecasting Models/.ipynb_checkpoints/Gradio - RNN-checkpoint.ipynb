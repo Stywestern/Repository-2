{
 "cells": [
  {
   "cell_type": "markdown",
   "id": "b6ca4916-02e4-4a19-9231-544394266dd5",
   "metadata": {},
   "source": [
    "Bu notebook eğitilmiş RNN modellerini kolay kullanılabilir bir kullanıcı arayüzüne aktarmak için oluşturulmuştur.\n",
    "Diğer modeller için olan Gradio notebook'larının da çoğu açıklaması buradadır."
   ]
  },
  {
   "cell_type": "markdown",
   "id": "40f97a35-654e-4f27-b241-183a4fb1699b",
   "metadata": {},
   "source": [
    "# Setup"
   ]
  },
  {
   "cell_type": "code",
   "execution_count": 1,
   "id": "e258dc5f-f5a2-48f9-b4ee-04325873eccc",
   "metadata": {},
   "outputs": [],
   "source": [
    "import gradio as gr\n",
    "import torch\n",
    "import torch.nn as nn\n",
    "import numpy as np\n",
    "import json\n",
    "\n",
    "import pandas as pd\n",
    "import matplotlib.pyplot as plt\n",
    "import plotly.express as px"
   ]
  },
  {
   "cell_type": "markdown",
   "id": "668b7a83-2fd8-42c1-a643-fa2c62f5056b",
   "metadata": {},
   "source": [
    "# PHASE 1: Get the model"
   ]
  },
  {
   "cell_type": "markdown",
   "id": "e1226f57-50e0-45d7-a156-036ba8f23aa2",
   "metadata": {},
   "source": [
    "Bu kısımda modellerin mimarisi tanımlanıp -asıl eğitildikleri notebook'takinin aynısı- kaydedilen modeller notebook'a yüklenir"
   ]
  },
  {
   "cell_type": "code",
   "execution_count": 2,
   "id": "c55c4032-7dac-410a-b398-b5028fd8114e",
   "metadata": {},
   "outputs": [],
   "source": [
    "# Modeli tanımla\n",
    "class BiGRUModel(nn.Module):\n",
    "    def __init__(self, input_size, hidden_size, output_size, num_layers=1, dropout=0.0):\n",
    "        super(BiGRUModel, self).__init__()\n",
    "        self.bi_gru = nn.GRU(input_size, hidden_size, num_layers, batch_first=True, bidirectional=True, dropout=dropout)\n",
    "        self.dropout = nn.Dropout(p=dropout)\n",
    "        self.fc = nn.Linear(2 * hidden_size, output_size)\n",
    "\n",
    "    def forward(self, x):\n",
    "        out, _ = self.bi_gru(x)\n",
    "        out = self.dropout(out)\n",
    "        out = self.fc(out[:, -1, :])\n",
    "        \n",
    "        return out"
   ]
  },
  {
   "cell_type": "code",
   "execution_count": 3,
   "id": "34a2236b-8e35-477f-a4f9-279e97512fa1",
   "metadata": {},
   "outputs": [],
   "source": [
    "class BiLSTMModel(nn.Module):\n",
    "    def __init__(self, input_size, hidden_size, output_size, num_layers=1, dropout=0.0):\n",
    "        super(BiLSTMModel, self).__init__()\n",
    "        self.bi_lstm = nn.LSTM(input_size, hidden_size, num_layers, batch_first=True, bidirectional=True, dropout=dropout)\n",
    "        self.fc = nn.Linear(2 * hidden_size, output_size)\n",
    "\n",
    "    def forward(self, x):\n",
    "        out, _ = self.bi_lstm(x)\n",
    "        out = self.fc(out[:, -1, :])\n",
    "        \n",
    "        return out"
   ]
  },
  {
   "cell_type": "code",
   "execution_count": 4,
   "id": "c208d68e-e01d-4099-b463-470e8281c1bf",
   "metadata": {},
   "outputs": [
    {
     "data": {
      "text/plain": [
       "BiGRUModel(\n",
       "  (bi_gru): GRU(3, 128, num_layers=2, batch_first=True, bidirectional=True)\n",
       "  (dropout): Dropout(p=0, inplace=False)\n",
       "  (fc): Linear(in_features=256, out_features=1, bias=True)\n",
       ")"
      ]
     },
     "execution_count": 4,
     "metadata": {},
     "output_type": "execute_result"
    }
   ],
   "source": [
    "# Modeli yükle\n",
    "model_GRU = torch.load(fr\"MODELS\\main_GRU_model.pth\")\n",
    "model_GRU.eval()\n",
    "model_GRU"
   ]
  },
  {
   "cell_type": "code",
   "execution_count": 5,
   "id": "939f1877-3a24-4a64-b57b-fc097b19fd8e",
   "metadata": {},
   "outputs": [
    {
     "data": {
      "text/plain": [
       "BiLSTMModel(\n",
       "  (bi_lstm): LSTM(3, 64, num_layers=2, batch_first=True, bidirectional=True)\n",
       "  (fc): Linear(in_features=128, out_features=1, bias=True)\n",
       ")"
      ]
     },
     "execution_count": 5,
     "metadata": {},
     "output_type": "execute_result"
    }
   ],
   "source": [
    "model_LSTM = torch.load(fr\"MODELS\\main_LSTM_model.pth\")\n",
    "model_LSTM.eval()\n",
    "model_LSTM"
   ]
  },
  {
   "cell_type": "markdown",
   "id": "919245b9-5f45-4cf9-b3da-8449f6df64f6",
   "metadata": {},
   "source": [
    "# PHASE 2: Configure the IU"
   ]
  },
  {
   "cell_type": "markdown",
   "id": "c5cf7c5e-ab6d-4553-b1fa-67c571c81903",
   "metadata": {},
   "source": [
    "Üç tane ana kullanıcı ara yüzü tanımladım:\n",
    "1) Single Prediction: Girilen verilere ve seçilen ayarlara göre tek bir zaman noktası tahmini yapar\n",
    "2) Forecast Plot: Girilen verilere ve seçilen ayarlara göre istenilen aralığı öngörür ve grafiğini çıkartır\n",
    "3) Forecast Table: Girilen verilere ve seçilen ayarlara göre istenilen aralığı öngörür ve tablosunu çıkartır\n",
    "\n",
    "Her arayüz için kullanıcın ne yapması gerektiğini iyice anlatmaya çalıştım, arayüzün olduğu bölümü çalıştırırsanız açıklamaları daha net görebilirsiniz."
   ]
  },
  {
   "cell_type": "code",
   "execution_count": 6,
   "id": "fb59503a-a653-4572-8e90-3d5f9121118c",
   "metadata": {},
   "outputs": [],
   "source": [
    "# Denormalizasyon istatistikleri\n",
    "with open(r\"normalization_stats.json\", \"r\") as json_file:\n",
    "    norm_dict = json.load(json_file)\n",
    "\n",
    "mean = norm_dict['mean']\n",
    "std = norm_dict['std']"
   ]
  },
  {
   "cell_type": "code",
   "execution_count": 7,
   "id": "e9528875-27f1-42aa-a68f-897067abb9b5",
   "metadata": {},
   "outputs": [],
   "source": [
    "# Kullanıcının cevabını istenilen değişkene dönüştürmek için sözlük\n",
    "dayofweek = {\n",
    "    \"Pazartesi\": 1,\n",
    "    \"Salı\": 2,\n",
    "    \"Çarşamba\": 3,\n",
    "    \"Perşembe\": 4,\n",
    "    \"Cuma\": 5,\n",
    "    \"Cumartesi\": 6,\n",
    "    \"Pazar\": 7\n",
    "}"
   ]
  },
  {
   "cell_type": "markdown",
   "id": "ef528a41-9f88-440e-8262-b943cbe671d1",
   "metadata": {},
   "source": [
    "## Predict Single"
   ]
  },
  {
   "cell_type": "markdown",
   "id": "02ab9b98-7de5-4f9c-9d1f-1db584ac7ccf",
   "metadata": {},
   "source": [
    "### Prediction logic"
   ]
  },
  {
   "cell_type": "code",
   "execution_count": 8,
   "id": "885f4777-3eaa-4fb8-9a6e-21a735e0f4cc",
   "metadata": {},
   "outputs": [],
   "source": [
    "def predict(model_name, hour_interval, day_of_week, value_before):\n",
    "    ## Modele verilecek girdiyi ayarlama kısmı\n",
    "    value_before_norm = (value_before - mean) / std\n",
    "    sequence = np.array([hour_interval, dayofweek[day_of_week], value_before_norm])\n",
    "    torch_input = torch.tensor(sequence, dtype=torch.float32).unsqueeze(0).unsqueeze(0)\n",
    "    \n",
    "    ## Seçilen modele göre:\n",
    "    if model_name == \"GRU\":\n",
    "        output = model_GRU(torch_input)\n",
    "    elif model_name == \"LSTM\":\n",
    "        output = model_LSTM(torch_input)\n",
    "\n",
    "    ## Çıktıyı denormalize edip ekrana yansıt\n",
    "    output_denorm = output * std + mean\n",
    "    \n",
    "    return round(output_denorm.item(), 2)"
   ]
  },
  {
   "cell_type": "markdown",
   "id": "116d15f2-60fa-4f62-ba1e-a5580fe36a68",
   "metadata": {},
   "source": [
    "### UI"
   ]
  },
  {
   "cell_type": "code",
   "execution_count": 9,
   "id": "e38b1546-23e7-4d81-83f6-71235321cf65",
   "metadata": {},
   "outputs": [],
   "source": [
    "single_article = \"**Nasıl Kullanılır**:\\n * İstediğiniz modeli seçin.\\n\" \\\n",
    "            \"* Tahmin etmek istediğiniz saati girin, günü seçin ve bir saat öncesindeki değeri sağlayın.\\n\" \\\n",
    "            \"* 'Submit' düğmesine tıklayın. Tahmin edilen değer bölümü istenen sonucu gösterecektir. \""
   ]
  },
  {
   "cell_type": "code",
   "execution_count": 10,
   "id": "a4f9e35a-7ea5-4bff-9209-136359965b49",
   "metadata": {},
   "outputs": [
    {
     "name": "stdout",
     "output_type": "stream",
     "text": [
      "Running on local URL:  http://127.0.0.1:7862\n",
      "\n",
      "To create a public link, set `share=True` in `launch()`.\n"
     ]
    },
    {
     "data": {
      "text/html": [
       "<div><iframe src=\"http://127.0.0.1:7862/\" width=\"100%\" height=\"500\" allow=\"autoplay; camera; microphone; clipboard-read; clipboard-write;\" frameborder=\"0\" allowfullscreen></iframe></div>"
      ],
      "text/plain": [
       "<IPython.core.display.HTML object>"
      ]
     },
     "metadata": {},
     "output_type": "display_data"
    },
    {
     "data": {
      "text/plain": []
     },
     "execution_count": 10,
     "metadata": {},
     "output_type": "execute_result"
    }
   ],
   "source": [
    "prediction_interface = gr.Interface( \n",
    "    fn=predict,\n",
    "    inputs=[\n",
    "        gr.Dropdown(choices=[\"GRU\", \"LSTM\"], label=\"Model türü\", value=\"GRU\"),\n",
    "        gr.Number(label=\"Saat Aralığı\", value=14),\n",
    "        gr.Dropdown(choices= [\"Pazartesi\", \"Salı\", \"Çarşamba\", \"Perşembe\", \"Cuma\", \"Cumartesi\", \"Pazar\"], label=\"Haftanın Günü\", value=\"Cuma\"),\n",
    "        gr.Number(label=\"Bir önceki değer\", value=30000)\n",
    "    ],\n",
    "    outputs=gr.Textbox(label=\"Tahmin edilen değer\"),\n",
    "    title=\"Öngörü Uygulaması\",\n",
    "    description=\"Model Türü, Saat Aralığı, Haftanın Günü ve Önceki Değer'i girerek bir tahmin alın.\",\n",
    "    theme=gr.themes.Soft(),\n",
    "    article=single_article,\n",
    "    allow_flagging=\"never\"\n",
    ")\n",
    "\n",
    "prediction_interface.launch()"
   ]
  },
  {
   "cell_type": "markdown",
   "id": "949a1d10-c3ac-4c5e-8c1b-38b6ccc64a85",
   "metadata": {},
   "source": [
    "## Forecast Plot"
   ]
  },
  {
   "cell_type": "markdown",
   "id": "b90c5f87-83b0-40cf-b84a-523a3fe29171",
   "metadata": {},
   "source": [
    "### Forecasting Logic"
   ]
  },
  {
   "cell_type": "code",
   "execution_count": 11,
   "id": "9e7780f2-b550-4d81-9e33-7c2c46704e8b",
   "metadata": {},
   "outputs": [],
   "source": [
    "desired_column = \"NetAmountWOVat\"\n",
    "features = [\"HourInterval\", \"DayOfWeek\", f'{desired_column} Before']\n",
    "\n",
    "def forecast_plot(model_name, start_timestamp, end_timestamp, sequence_length=1):\n",
    "    forecast_timestamps = pd.date_range(start=start_timestamp, end=end_timestamp, freq='H')\n",
    "    forecast_df = pd.DataFrame(index=forecast_timestamps)\n",
    "    \n",
    "    forecast_df[f'Forecasted {desired_column}'] = np.nan\n",
    "    forecast_df[f'{desired_column} Before'] = np.nan\n",
    "    forecast_df[\"HourInterval\"] = forecast_df.index.hour\n",
    "    forecast_df['DayOfWeek'] = forecast_df.index.dayofweek + 1\n",
    "    \n",
    "    forecast_df = forecast_df[[f'Forecasted {desired_column}', 'HourInterval', 'DayOfWeek', f'{desired_column} Before']]\n",
    "    \n",
    "    forecast_df.iloc[:sequence_length + 1, forecast_df.columns.get_loc(f'{desired_column} Before')] = (0-mean)/std\n",
    "    \n",
    "    if model_name == \"GRU\":\n",
    "        for i in range(0, len(forecast_df) + 100):\n",
    "            sequence = forecast_df.iloc[i:i + sequence_length]\n",
    "            sequence = sequence[features].values\n",
    "            \n",
    "            torch_input = torch.tensor(sequence, dtype=torch.float32).unsqueeze(0)\n",
    "\n",
    "            predicted_value = model_GRU(torch_input)\n",
    "\n",
    "            forecast_df.iloc[i, forecast_df.columns.get_loc(f'Forecasted {desired_column}')] = predicted_value.item()\n",
    "            if forecast_df.isnull().sum()[0] == 0:\n",
    "                break\n",
    "\n",
    "            forecast_df.iloc[i + 1, forecast_df.columns.get_loc(f'{desired_column} Before')] = forecast_df.iloc[i, forecast_df.columns.get_loc(f'Forecasted {desired_column}')]\n",
    "    \n",
    "    elif model_name == \"LSTM\":\n",
    "        for i in range(0, len(forecast_df) + 100):\n",
    "            sequence = forecast_df.iloc[i:i + sequence_length]\n",
    "            sequence = sequence[features].values\n",
    "            \n",
    "            torch_input = torch.tensor(sequence, dtype=torch.float32).unsqueeze(0)\n",
    "\n",
    "            predicted_value = model_LSTM(torch_input)\n",
    "\n",
    "            forecast_df.iloc[i, forecast_df.columns.get_loc(f'Forecasted {desired_column}')] = predicted_value.item()\n",
    "            if forecast_df.isnull().sum()[0] == 0:\n",
    "                break\n",
    "\n",
    "            forecast_df.iloc[i + 1, forecast_df.columns.get_loc(f'{desired_column} Before')] = forecast_df.iloc[i, forecast_df.columns.get_loc(f'Forecasted {desired_column}')]\n",
    "\n",
    "    forecast_df_denorm = forecast_df.copy()\n",
    "    forecast_df_denorm[f'Forecasted {desired_column}'] = forecast_df[f'Forecasted {desired_column}'] * std + mean\n",
    "    \n",
    "    # Grafiği yansıt\n",
    "    return px.line(forecast_df_denorm, x=forecast_df.index, y=f'Forecasted {desired_column}')"
   ]
  },
  {
   "cell_type": "markdown",
   "id": "2a4e9be8-068b-4438-83e2-48934af41f79",
   "metadata": {},
   "source": [
    "### UI"
   ]
  },
  {
   "cell_type": "code",
   "execution_count": 12,
   "id": "37bf6ad7-8eca-42fa-9dd9-f5fafc3d90d8",
   "metadata": {},
   "outputs": [],
   "source": [
    "plot_article = \"Nasıl Kullanılır:\\n * İstediğiniz modeli seçin.\\n\" \\\n",
    "                \"* Başlangıç ve bitiş tarihini YY-AA-GG SS:DD:SS biçiminde girin ve geçmişe bakma aralığını sağlayın. \\n\"\\\n",
    "                \"* 'Submit' düğmesine tıklayın. Tahminler bir grafik olarak gösterilecektir. \""
   ]
  },
  {
   "cell_type": "code",
   "execution_count": 13,
   "id": "de487cf9-1be9-4dd2-b88a-a6be417e82b5",
   "metadata": {},
   "outputs": [
    {
     "name": "stdout",
     "output_type": "stream",
     "text": [
      "Running on local URL:  http://127.0.0.1:7863\n",
      "\n",
      "To create a public link, set `share=True` in `launch()`.\n"
     ]
    },
    {
     "data": {
      "text/html": [
       "<div><iframe src=\"http://127.0.0.1:7863/\" width=\"100%\" height=\"500\" allow=\"autoplay; camera; microphone; clipboard-read; clipboard-write;\" frameborder=\"0\" allowfullscreen></iframe></div>"
      ],
      "text/plain": [
       "<IPython.core.display.HTML object>"
      ]
     },
     "metadata": {},
     "output_type": "display_data"
    },
    {
     "data": {
      "text/plain": []
     },
     "execution_count": 13,
     "metadata": {},
     "output_type": "execute_result"
    }
   ],
   "source": [
    "plot_interface = gr.Interface(\n",
    "    fn=forecast_plot,\n",
    "    inputs=[\n",
    "        gr.Dropdown(choices=[\"GRU\", \"LSTM\"], label=\"Model Türü\", value=\"GRU\"),\n",
    "        gr.Textbox(label=\"Başlangıç Zamanı (YYYY-AA-GG SS:DD:SS)\", value=\"2024-02-8 00:00:00\"),  \n",
    "        gr.Textbox(label=\"Bitiş Zamanı (YYYY-AA-GG SS:DD:SS)\", value=\"2024-02-15 23:00:00\")\n",
    "      ],\n",
    "    outputs=\"plot\",\n",
    "    title=\"Tahmin Uygulaması\",\n",
    "    description=\"Tahmin yapmak için başlangıç ve bitiş zamanını YYYY-AA-GG SS:DD:SS formatında girin.\",\n",
    "    article = plot_article,\n",
    "    allow_flagging=\"never\"\n",
    ")\n",
    "\n",
    "plot_interface.launch()"
   ]
  },
  {
   "cell_type": "markdown",
   "id": "23790429-4e78-443b-8b9f-76ffd42c7356",
   "metadata": {},
   "source": [
    "## Forecast Table"
   ]
  },
  {
   "cell_type": "markdown",
   "id": "b7765c51-9f08-4feb-b9e1-3b2ac33abca8",
   "metadata": {},
   "source": [
    "### Forecasting Logic"
   ]
  },
  {
   "cell_type": "code",
   "execution_count": 14,
   "id": "04c2ea4e-b44b-4e56-b759-7ebd9b3b9189",
   "metadata": {},
   "outputs": [],
   "source": [
    "desired_column = \"NetAmountWOVat\"\n",
    "features = [\"HourInterval\", \"DayOfWeek\", f'{desired_column} Before']\n",
    "\n",
    "def forecast_table(model_name, start_timestamp, end_timestamp, sequence_length=1):\n",
    "    forecast_timestamps = pd.date_range(start=start_timestamp, end=end_timestamp, freq='H')\n",
    "    forecast_df = pd.DataFrame(index=forecast_timestamps)\n",
    "    \n",
    "    forecast_df[f'Forecasted {desired_column}'] = np.nan\n",
    "    forecast_df[f'{desired_column} Before'] = np.nan\n",
    "    forecast_df[\"HourInterval\"] = forecast_df.index.hour\n",
    "    forecast_df['DayOfWeek'] = forecast_df.index.dayofweek + 1\n",
    "    \n",
    "    forecast_df = forecast_df[[f'Forecasted {desired_column}', 'HourInterval', 'DayOfWeek', f'{desired_column} Before']]\n",
    "    \n",
    "    forecast_df.iloc[:sequence_length + 1, forecast_df.columns.get_loc(f'{desired_column} Before')] = (0-mean)/std\n",
    "\n",
    "    if model_name == \"GRU\":\n",
    "        for i in range(0, len(forecast_df) + 100):\n",
    "            sequence = forecast_df.iloc[i:i + sequence_length]\n",
    "            sequence = sequence[features].values\n",
    "            \n",
    "            torch_input = torch.tensor(sequence, dtype=torch.float32).unsqueeze(0)\n",
    "\n",
    "            predicted_value = model_GRU(torch_input)\n",
    "\n",
    "            forecast_df.iloc[i, forecast_df.columns.get_loc(f'Forecasted {desired_column}')] = predicted_value.item()\n",
    "            if forecast_df.isnull().sum()[0] == 0:\n",
    "                break\n",
    "\n",
    "            forecast_df.iloc[i + 1, forecast_df.columns.get_loc(f'{desired_column} Before')] = forecast_df.iloc[i, forecast_df.columns.get_loc(f'Forecasted {desired_column}')]\n",
    "    \n",
    "    elif model_name == \"LSTM\":\n",
    "        for i in range(0, len(forecast_df) + 100):\n",
    "            sequence = forecast_df.iloc[i:i + sequence_length]\n",
    "            sequence = sequence[features].values\n",
    "            \n",
    "            torch_input = torch.tensor(sequence, dtype=torch.float32).unsqueeze(0)\n",
    "\n",
    "            predicted_value = model_LSTM(torch_input)\n",
    "\n",
    "            forecast_df.iloc[i, forecast_df.columns.get_loc(f'Forecasted {desired_column}')] = predicted_value.item()\n",
    "            if forecast_df.isnull().sum()[0] == 0:\n",
    "                break\n",
    "\n",
    "            forecast_df.iloc[i + 1, forecast_df.columns.get_loc(f'{desired_column} Before')] = forecast_df.iloc[i, forecast_df.columns.get_loc(f'Forecasted {desired_column}')]\n",
    "\n",
    "    forecast_df_denorm = forecast_df.copy()\n",
    "    forecast_df_denorm[f'Forecasted {desired_column}'] = forecast_df[f'Forecasted {desired_column}'] * std + mean\n",
    "\n",
    "    formatted_timestamps = forecast_df_denorm.index.strftime(\"%Y-%m-%d %H:%M:%S\").tolist()\n",
    "    predicted_values = forecast_df_denorm[f'Forecasted {desired_column}'].tolist() \n",
    "\n",
    "    data = list(zip(formatted_timestamps, predicted_values))\n",
    "\n",
    "    return gr.Dataframe(value=data, headers=[\"Time\", f\"Predicted {desired_column}\"])"
   ]
  },
  {
   "cell_type": "markdown",
   "id": "bd5bf70a-fb83-47b0-a966-6b2850f286d5",
   "metadata": {},
   "source": [
    "### UI"
   ]
  },
  {
   "cell_type": "code",
   "execution_count": 15,
   "id": "8e52da4e-0d0a-4686-9eee-ee26cb4f1049",
   "metadata": {},
   "outputs": [],
   "source": [
    "table_article = \"Nasıl Kullanılır:\\n * İstediğiniz modeli seçin.\\n\" \\\n",
    "                \"* Başlangıç ve bitiş tarihini YY-AA-GG SS:DD:SS biçiminde girin ve geçmişe bakma aralığını sağlayın. \\n\"\\\n",
    "                \"* 'Submit' düğmesine tıklayın. Tahminler size tablo halinde gösterilecektir. \""
   ]
  },
  {
   "cell_type": "code",
   "execution_count": 16,
   "id": "47a2eda9-86f6-49db-8d13-fd50a9c5b990",
   "metadata": {},
   "outputs": [
    {
     "name": "stdout",
     "output_type": "stream",
     "text": [
      "Running on local URL:  http://127.0.0.1:7864\n",
      "\n",
      "To create a public link, set `share=True` in `launch()`.\n"
     ]
    },
    {
     "data": {
      "text/html": [
       "<div><iframe src=\"http://127.0.0.1:7864/\" width=\"100%\" height=\"500\" allow=\"autoplay; camera; microphone; clipboard-read; clipboard-write;\" frameborder=\"0\" allowfullscreen></iframe></div>"
      ],
      "text/plain": [
       "<IPython.core.display.HTML object>"
      ]
     },
     "metadata": {},
     "output_type": "display_data"
    },
    {
     "data": {
      "text/plain": []
     },
     "execution_count": 16,
     "metadata": {},
     "output_type": "execute_result"
    }
   ],
   "source": [
    "interface = gr.Interface(\n",
    "    fn=forecast_table,\n",
    "    inputs=[\n",
    "        gr.Dropdown(choices=[\"GRU\", \"LSTM\"], label=\"Model Türü\", value=\"GRU\"),\n",
    "        gr.Textbox(label=\"Başlangıç Zamanı (YYYY-AA-GG SS:DD:SS)\", value=\"2024-02-8 00:00:00\"),  \n",
    "        gr.Textbox(label=\"Bitiş Zamanı (YYYY-AA-GG SS:DD:SS)\", value=\"2024-02-10 23:00:00\")\n",
    "      ],\n",
    "    outputs=gr.Dataframe(label=\"Tahmin Tablosu\"),\n",
    "    title=\"Tahmin Uygulaması\",\n",
    "    description=\"Tahmin yapmak için başlangıç ve bitiş zamanını YYYY-AA-GG SS:DD:SS formatında girin.\",\n",
    "    article=table_article,\n",
    "    allow_flagging=\"never\"\n",
    ")\n",
    "\n",
    "interface.launch()"
   ]
  }
 ],
 "metadata": {
  "kernelspec": {
   "display_name": "Python 3 (ipykernel)",
   "language": "python",
   "name": "python3"
  },
  "language_info": {
   "codemirror_mode": {
    "name": "ipython",
    "version": 3
   },
   "file_extension": ".py",
   "mimetype": "text/x-python",
   "name": "python",
   "nbconvert_exporter": "python",
   "pygments_lexer": "ipython3",
   "version": "3.8.18"
  }
 },
 "nbformat": 4,
 "nbformat_minor": 5
}
