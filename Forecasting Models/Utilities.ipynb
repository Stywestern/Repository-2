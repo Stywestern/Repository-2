{
 "cells": [
  {
   "cell_type": "markdown",
   "id": "566155eb-a606-450b-b74d-41903d16d9e7",
   "metadata": {},
   "source": [
    "Bu notebook'u işime yarar fonksiyonları koymak ve kimi özellikleri test etmek için yaptım"
   ]
  },
  {
   "cell_type": "markdown",
   "id": "fc9bda9c-85d9-4280-9706-884e66dd3baa",
   "metadata": {},
   "source": [
    "# Utility to convert from notebook to .py file"
   ]
  },
  {
   "cell_type": "markdown",
   "id": "c704af19-d22c-4bbd-8608-17fe0b582ec2",
   "metadata": {},
   "source": [
    "Bu fonksiyon Jupyter Notebook'larını Python dosyası haline getirir."
   ]
  },
  {
   "cell_type": "code",
   "execution_count": null,
   "id": "9a6f6ce7-9598-4307-9117-4e854237fc5d",
   "metadata": {},
   "outputs": [],
   "source": [
    "from nbconvert import PythonExporter\n",
    "import nbformat\n",
    "\n",
    "def convert_notebook_to_python(notebook_filename, python_output_filename):\n",
    "    python_exporter = PythonExporter()\n",
    "\n",
    "    with open(notebook_filename, 'r', encoding='utf-8') as nb_file:\n",
    "        notebook_content = nb_file.read()\n",
    "\n",
    "    notebook = nbformat.reads(notebook_content, as_version=4)\n",
    "\n",
    "    python_script, _ = python_exporter.from_notebook_node(notebook)\n",
    "\n",
    "    with open(python_output_filename, 'w', encoding='utf-8') as py_file:\n",
    "        py_file.write(python_script)\n",
    "\n",
    "    print(f\"Notebook '{notebook_filename}' successfully converted to '{python_output_filename}'.\")\n",
    "\n",
    "# Kullanım:\n",
    "notebook_filename = '' # notebook'a giden yol\n",
    "python_output_filename = '' # çıktı Python dosyasına vermek istediğiniz isim\n",
    "convert_notebook_to_python(notebook_filename, python_output_filename) # fonksiyonun kendisi"
   ]
  },
  {
   "cell_type": "markdown",
   "id": "93bc996f-2f43-4755-85df-84e6a5491cc2",
   "metadata": {},
   "source": [
    "# List directory"
   ]
  },
  {
   "cell_type": "code",
   "execution_count": 1,
   "id": "3249ef88-68eb-49b3-8567-24fa0465533a",
   "metadata": {},
   "outputs": [
    {
     "data": {
      "text/plain": [
       "['.ipynb_checkpoints',\n",
       " 'ARIMA Models.ipynb',\n",
       " 'catboost_info',\n",
       " 'column_docs.txt',\n",
       " 'DATASETS',\n",
       " 'EDA 1 (General).ipynb',\n",
       " 'EDA 2 (DescriptiveStatistics).ipynb',\n",
       " 'EDA 3 (FurtherCleaning).ipynb',\n",
       " 'flagged',\n",
       " 'Gradio - Linear.ipynb',\n",
       " 'Gradio - Prophet.ipynb',\n",
       " 'Gradio - RNN.ipynb',\n",
       " 'Gradio - Tree.ipynb',\n",
       " 'Linear Models.ipynb',\n",
       " 'MODELS',\n",
       " 'normalization_stats.json',\n",
       " 'Prophet Models.ipynb',\n",
       " 'RNN Model Graphs',\n",
       " 'RNN Models - Main.ipynb',\n",
       " 'RNN Models - Prototype.ipynb',\n",
       " 'saved_GRU',\n",
       " 'saved_LSTM',\n",
       " 'Tree Models.ipynb',\n",
       " 'Utilities.ipynb']"
      ]
     },
     "execution_count": 1,
     "metadata": {},
     "output_type": "execute_result"
    }
   ],
   "source": [
    "import os\n",
    "os.listdir()"
   ]
  },
  {
   "cell_type": "code",
   "execution_count": null,
   "id": "8d282f0e-5b53-48ce-99a6-380c3646dd49",
   "metadata": {},
   "outputs": [],
   "source": []
  }
 ],
 "metadata": {
  "kernelspec": {
   "display_name": "Python 3 (ipykernel)",
   "language": "python",
   "name": "python3"
  },
  "language_info": {
   "codemirror_mode": {
    "name": "ipython",
    "version": 3
   },
   "file_extension": ".py",
   "mimetype": "text/x-python",
   "name": "python",
   "nbconvert_exporter": "python",
   "pygments_lexer": "ipython3",
   "version": "3.8.18"
  }
 },
 "nbformat": 4,
 "nbformat_minor": 5
}
