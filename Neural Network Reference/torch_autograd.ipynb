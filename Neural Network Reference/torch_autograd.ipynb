{
 "cells": [
  {
   "cell_type": "markdown",
   "id": "f15f1993",
   "metadata": {},
   "source": [
    "# AUTOMATIC DIFFERENTIATION PACKAGE - TORCH.AUTOGRAD\n",
    "\n",
    "Let's say we have two variables $a$ and $b$. \n",
    "\n",
    "We also have two functions: $P = 3a^3 - b^2$ and $Q = -3a^3 + b^2$.\n",
    "\n",
    "We want Torch to calculate gradients."
   ]
  },
  {
   "cell_type": "code",
   "execution_count": 1,
   "id": "1fe84920",
   "metadata": {},
   "outputs": [],
   "source": [
    "import torch"
   ]
  },
  {
   "cell_type": "markdown",
   "id": "eeb1227e",
   "metadata": {},
   "source": [
    "Let's say $a = 2$ and $b = 6$. "
   ]
  },
  {
   "cell_type": "code",
   "execution_count": 2,
   "id": "83ad4c5e",
   "metadata": {},
   "outputs": [],
   "source": [
    "a = torch.tensor(2., requires_grad=True)\n",
    "b = torch.tensor(6., requires_grad=True)"
   ]
  },
  {
   "cell_type": "markdown",
   "id": "e9dfe762",
   "metadata": {},
   "source": [
    "## Forward pass for P\n",
    "\n",
    "$P = 3a^3 - b^2 = 3*2^3 - 6^2 = -12$"
   ]
  },
  {
   "cell_type": "code",
   "execution_count": 3,
   "id": "4225097e",
   "metadata": {},
   "outputs": [
    {
     "name": "stdout",
     "output_type": "stream",
     "text": [
      "P: -12.0\n"
     ]
    }
   ],
   "source": [
    "P = 3*a**3 - b**2\n",
    "print('P: {}'.format(P))"
   ]
  },
  {
   "cell_type": "markdown",
   "id": "190ac638",
   "metadata": {},
   "source": [
    "## Backward pass for P\n",
    "\n",
    "Analytically,\n",
    "\n",
    "$\\frac{\\partial P}{\\partial a} = 9a^2 = 36$ and $\\frac{\\partial P}{\\partial b} = -2b = -12$"
   ]
  },
  {
   "cell_type": "code",
   "execution_count": 4,
   "id": "5784b70a",
   "metadata": {},
   "outputs": [],
   "source": [
    "P.backward()"
   ]
  },
  {
   "cell_type": "markdown",
   "id": "324601da",
   "metadata": {},
   "source": [
    "What are the gradients with respect to $a$ (a.grad) and $b$ (b.grad) calculated by Torch?"
   ]
  },
  {
   "cell_type": "code",
   "execution_count": 5,
   "id": "4ad6961e",
   "metadata": {},
   "outputs": [
    {
     "name": "stdout",
     "output_type": "stream",
     "text": [
      "gradient w.r.t. a: 36.0\n",
      "gradient w.r.t. b: -12.0\n"
     ]
    }
   ],
   "source": [
    "print('gradient w.r.t. a: {}'.format(a.grad))\n",
    "print('gradient w.r.t. b: {}'.format(b.grad))"
   ]
  },
  {
   "cell_type": "markdown",
   "id": "5675d02a",
   "metadata": {},
   "source": [
    "## Forward pass for Q\n",
    "\n",
    "$Q = -3a^3 + b^2 = -3*2^3 + 6^2 = 12$"
   ]
  },
  {
   "cell_type": "code",
   "execution_count": 6,
   "id": "200a06fb",
   "metadata": {
    "scrolled": true
   },
   "outputs": [
    {
     "name": "stdout",
     "output_type": "stream",
     "text": [
      "Q: 12.0\n"
     ]
    }
   ],
   "source": [
    "Q = -3*a**3 + b**2\n",
    "print('Q: {}'.format(Q))"
   ]
  },
  {
   "cell_type": "markdown",
   "id": "aaaa3501",
   "metadata": {},
   "source": [
    "## Backward pass for Q\n",
    "\n",
    "\n",
    "Analytically,\n",
    "\n",
    "$\\frac{\\partial Q}{\\partial a} = -9a^2 = -36$ and $\\frac{\\partial Q}{\\partial b} = 2b = 12$"
   ]
  },
  {
   "cell_type": "code",
   "execution_count": 7,
   "id": "6a71a82e",
   "metadata": {},
   "outputs": [],
   "source": [
    "Q.backward()"
   ]
  },
  {
   "cell_type": "markdown",
   "id": "9770be53",
   "metadata": {},
   "source": [
    "What is the gradient with respect to $a$ (a.grad) and $b$ (b.grad) calculated by Torch?"
   ]
  },
  {
   "cell_type": "code",
   "execution_count": 8,
   "id": "b1eb9eed",
   "metadata": {},
   "outputs": [
    {
     "name": "stdout",
     "output_type": "stream",
     "text": [
      "gradient w.r.t. a: 0.0\n",
      "gradient w.r.t. b: 0.0\n"
     ]
    }
   ],
   "source": [
    "print('gradient w.r.t. a: {}'.format(a.grad))\n",
    "print('gradient w.r.t. b: {}'.format(b.grad))"
   ]
  },
  {
   "cell_type": "markdown",
   "id": "baa29e65",
   "metadata": {},
   "source": [
    "Torch Autograd **accumulates the gradients**, we have to clear them before backward pass!"
   ]
  },
  {
   "cell_type": "code",
   "execution_count": 9,
   "id": "92f9e77a",
   "metadata": {},
   "outputs": [],
   "source": [
    "# clear the gradients\n",
    "if a.grad is not None:\n",
    "    a.grad.zero_()\n",
    "\n",
    "if b.grad is not None:\n",
    "    b.grad.zero_()"
   ]
  },
  {
   "cell_type": "code",
   "execution_count": 10,
   "id": "1941b88f",
   "metadata": {},
   "outputs": [
    {
     "name": "stdout",
     "output_type": "stream",
     "text": [
      "P: -12.0\n",
      "gradient w.r.t. a: 36.0\n",
      "gradient w.r.t. b: -12.0\n"
     ]
    }
   ],
   "source": [
    "# forward pass for P\n",
    "P = 3*a**3 - b**2\n",
    "print('P: {}'.format(P))\n",
    "\n",
    "# backward pass for P\n",
    "P.backward()\n",
    "print('gradient w.r.t. a: {}'.format(a.grad))\n",
    "print('gradient w.r.t. b: {}'.format(b.grad))"
   ]
  },
  {
   "cell_type": "code",
   "execution_count": 11,
   "id": "2451eb3c",
   "metadata": {},
   "outputs": [],
   "source": [
    "# clear the gradients\n",
    "if a.grad is not None:\n",
    "    a.grad.zero_()\n",
    "\n",
    "if b.grad is not None:\n",
    "    b.grad.zero_()"
   ]
  },
  {
   "cell_type": "code",
   "execution_count": 12,
   "id": "bb1dd01a",
   "metadata": {},
   "outputs": [
    {
     "name": "stdout",
     "output_type": "stream",
     "text": [
      "Q: 12.0\n",
      "gradient w.r.t. a: -36.0\n",
      "gradient w.r.t. b: 12.0\n"
     ]
    }
   ],
   "source": [
    "# forward pass for Q\n",
    "Q = -3*a**3 + b**2\n",
    "print('Q: {}'.format(Q))\n",
    "\n",
    "# backward pass for Q\n",
    "Q.backward()\n",
    "print('gradient w.r.t. a: {}'.format(a.grad))\n",
    "print('gradient w.r.t. b: {}'.format(b.grad))"
   ]
  },
  {
   "cell_type": "code",
   "execution_count": null,
   "id": "495a6ff6",
   "metadata": {},
   "outputs": [],
   "source": []
  }
 ],
 "metadata": {
  "kernelspec": {
   "display_name": "Python 3 (ipykernel)",
   "language": "python",
   "name": "python3"
  },
  "language_info": {
   "codemirror_mode": {
    "name": "ipython",
    "version": 3
   },
   "file_extension": ".py",
   "mimetype": "text/x-python",
   "name": "python",
   "nbconvert_exporter": "python",
   "pygments_lexer": "ipython3",
   "version": "3.9.13"
  }
 },
 "nbformat": 4,
 "nbformat_minor": 5
}
